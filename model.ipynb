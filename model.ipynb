{
 "cells": [
  {
   "cell_type": "code",
   "execution_count": 31,
   "metadata": {},
   "outputs": [],
   "source": [
    "import mlflow\n",
    "from mlflow.tracking import MlflowClient\n",
    "from sklearn import datasets\n",
    "from sklearn.model_selection import train_test_split\n",
    "from sklearn.tree import DecisionTreeClassifier\n",
    "from sklearn.metrics import accuracy_score\n",
    "import joblib"
   ]
  },
  {
   "cell_type": "code",
   "execution_count": 32,
   "metadata": {},
   "outputs": [],
   "source": [
    "#server_uri = \"http://localhost:5000\"\n",
    "server_uri = \"http://antoniomlflowaci.westeurope.azurecontainer.io:5000\"\n",
    "exp_name = \"tree_model_iris\"\n",
    "model_name = \"tree_model\"\n",
    "artifact_path = \"mlflow-artifact-root\"\n",
    "params = {\"max_depth\": 3, \"max_features\": 2, \"min_samples_split\": 20, \"random_state\": 1}"
   ]
  },
  {
   "cell_type": "code",
   "execution_count": 33,
   "metadata": {},
   "outputs": [],
   "source": [
    "mlflow.set_tracking_uri(server_uri)\n",
    "client = MlflowClient()\n",
    "exp_names = [exp.name for exp in client.list_experiments()]\n",
    "if exp_name not in exp_names:\n",
    "    client.create_experiment(exp_name)\n",
    "exp = client.get_experiment_by_name(exp_name)"
   ]
  },
  {
   "cell_type": "code",
   "execution_count": 34,
   "metadata": {},
   "outputs": [],
   "source": [
    "iris = datasets.load_iris()\n",
    "x, y = iris.data, iris.target\n",
    "labels = iris.target_names\n",
    "x_train, x_test, y_train, y_test = train_test_split(x, y, test_size=0.4, random_state=1)"
   ]
  },
  {
   "cell_type": "code",
   "execution_count": 35,
   "metadata": {},
   "outputs": [],
   "source": [
    "# If issues with azure dependencies:\n",
    "# pip uninstall -y azure-common azure-storage azure-nspkg azure-storage-blob\n",
    "# pip install azure-storage-blob --upgrade\n",
    "# pip install azure-common --upgrade"
   ]
  },
  {
   "cell_type": "code",
   "execution_count": null,
   "metadata": {},
   "outputs": [],
   "source": [
    "#%env AZURE_STORAGE_ACCESS_KEY=\"\""
   ]
  },
  {
   "cell_type": "code",
   "execution_count": 37,
   "metadata": {},
   "outputs": [
    {
     "name": "stderr",
     "output_type": "stream",
     "text": [
      "Successfully registered model 'tree_model'.\n",
      "2021/09/06 13:30:28 INFO mlflow.tracking._model_registry.client: Waiting up to 300 seconds for model version to finish creation.                     Model name: tree_model, version 1\n",
      "Created version '1' of model 'tree_model'.\n"
     ]
    }
   ],
   "source": [
    "with mlflow.start_run(experiment_id=exp.experiment_id) as run:\n",
    "    tree = DecisionTreeClassifier(**params)\n",
    "    tree.fit(x_train, y_train)\n",
    "    y_pred = tree.predict(x_test)\n",
    "\n",
    "    mlflow.log_params(tree.get_params())\n",
    "    mlflow.log_metric(\"accuracy\", accuracy_score(y_test, y_pred))\n",
    "    mlflow.sklearn.log_model(tree, artifact_path)\n",
    "    model_uri = f\"runs:/{run.info.run_id}/{artifact_path}\"\n",
    "    mv = mlflow.register_model(model_uri, \"tree_model\")"
   ]
  },
  {
   "cell_type": "code",
   "execution_count": 38,
   "metadata": {},
   "outputs": [
    {
     "data": {
      "text/plain": [
       "DecisionTreeClassifier(ccp_alpha=0.0, class_weight=None, criterion='gini',\n",
       "                       max_depth=3, max_features=2, max_leaf_nodes=None,\n",
       "                       min_impurity_decrease=0.0, min_impurity_split=None,\n",
       "                       min_samples_leaf=1, min_samples_split=20,\n",
       "                       min_weight_fraction_leaf=0.0, presort='deprecated',\n",
       "                       random_state=1, splitter='best')"
      ]
     },
     "execution_count": 38,
     "metadata": {},
     "output_type": "execute_result"
    }
   ],
   "source": [
    "mlflow.sklearn.load_model(\"models:/tree_model/1\")"
   ]
  },
  {
   "cell_type": "code",
   "execution_count": null,
   "metadata": {},
   "outputs": [],
   "source": []
  },
  {
   "cell_type": "code",
   "execution_count": null,
   "metadata": {},
   "outputs": [],
   "source": []
  },
  {
   "cell_type": "code",
   "execution_count": null,
   "metadata": {},
   "outputs": [],
   "source": []
  },
  {
   "cell_type": "code",
   "execution_count": 26,
   "metadata": {},
   "outputs": [],
   "source": [
    "import requests\n",
    "import json"
   ]
  },
  {
   "cell_type": "code",
   "execution_count": null,
   "metadata": {},
   "outputs": [],
   "source": [
    "feat_names = iris.feature_names\n",
    "dummy_data = [5.8, 4. , 1.2, 0.2]\n",
    "dummy_request = {feat_names[i]: dummy_data[i] for i in range(len(feat_names))}\n",
    "test = {\"sepal_length\": 2.1,  \"sepal_width\": 0.2,  \"petal_length\": 4.3, \"petal_width\": 2}\n",
    "\n",
    "#url = \"http://localhost:8000/predict_iris\"\n",
    "url = \"http://antonioirismodelaci.westeurope.azurecontainer.io:8000/predict_iris\"\n",
    "\n",
    "prediction = requests.get(url, {\"flower_data\": json.dumps(test)})"
   ]
  },
  {
   "cell_type": "code",
   "execution_count": null,
   "metadata": {},
   "outputs": [],
   "source": [
    "prediction.text"
   ]
  }
 ],
 "metadata": {
  "kernelspec": {
   "display_name": "Python 3",
   "language": "python",
   "name": "python3"
  },
  "language_info": {
   "codemirror_mode": {
    "name": "ipython",
    "version": 3
   },
   "file_extension": ".py",
   "mimetype": "text/x-python",
   "name": "python",
   "nbconvert_exporter": "python",
   "pygments_lexer": "ipython3",
   "version": "3.7.6"
  }
 },
 "nbformat": 4,
 "nbformat_minor": 4
}
